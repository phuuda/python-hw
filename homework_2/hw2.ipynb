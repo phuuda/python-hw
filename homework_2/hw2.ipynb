{
 "cells": [
  {
   "cell_type": "code",
   "execution_count": 13,
   "metadata": {
    "scrolled": true
   },
   "outputs": [
    {
     "name": "stdout",
     "output_type": "stream",
     "text": [
      "Mood song~\n",
      "Silent Hill 3 OST - End Of Small Sanctuary https://t.co/134seaVZIe\n",
      "Flashback to this summer holiday in Silent Hill. https://t.co/exx4DHshJw\n",
      "RT @GamesRadar: The Evil Within 2 preview: An intriguing blend of The Last of Us and Silent Hill https://t.co/4Yd6S8Sc9O https://t.co/gUIj5…\n",
      "RT @MiyukiMiyasaki: Silent Hill Nurse and Nier2-B2 Cosplay https://t.co/aEXQB1YBrj\n",
      "I'm really proud of video games. In the last two years, face modeling has finally caught up to Silent Hill 3.\n",
      "RT @MiyukiMiyasaki: Silent Hill Nurse and Nier2-B2 Cosplay https://t.co/aEXQB1YBrj\n",
      "RT @adrian1brody: @game_secret1 @salemalmazroi33 2006 – Silent Hill ✨ https://t.co/JjmOuhaAMP\n",
      "Silent hill\n",
      "Silent Hill Nurse and Nier2-B2 Cosplay https://t.co/aEXQB1YBrj\n",
      "RT @SilentHillP: Happy 16th Birthday to Silent Hill 2! https://t.co/kaPJC4QHWC\n"
     ]
    }
   ],
   "source": [
    "import sys\n",
    "sys.path.append('/Users/Sofia/Desktop/pattern-2.6')\n",
    "from pattern.web import Twitter, plaintext\n",
    "\n",
    "twitter = Twitter(language='en') \n",
    "for tweet in twitter.search('\"silent hill\"', cached=False):\n",
    "    print plaintext(tweet.text)"
   ]
  },
  {
   "cell_type": "code",
   "execution_count": null,
   "metadata": {
    "collapsed": true
   },
   "outputs": [],
   "source": []
  }
 ],
 "metadata": {
  "kernelspec": {
   "display_name": "Python 2",
   "language": "python",
   "name": "python2"
  },
  "language_info": {
   "codemirror_mode": {
    "name": "ipython",
    "version": 2
   },
   "file_extension": ".py",
   "mimetype": "text/x-python",
   "name": "python",
   "nbconvert_exporter": "python",
   "pygments_lexer": "ipython2",
   "version": "2.7.13"
  }
 },
 "nbformat": 4,
 "nbformat_minor": 2
}
